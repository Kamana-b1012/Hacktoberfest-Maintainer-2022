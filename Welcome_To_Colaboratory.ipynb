{
  "cells": [
    {
      "cell_type": "markdown",
      "metadata": {
        "id": "view-in-github",
        "colab_type": "text"
      },
      "source": [
        "<a href=\"https://colab.research.google.com/github/Kamana-b1012/Hacktoberfest-Maintainer-2022/blob/main/Welcome_To_Colaboratory.ipynb\" target=\"_parent\"><img src=\"https://colab.research.google.com/assets/colab-badge.svg\" alt=\"Open In Colab\"/></a>"
      ]
    },
    {
      "cell_type": "markdown",
      "source": [
        "project-2 Group Name Generator\n",
        " instruction\n",
        " 1. create a greeting for you program.\n",
        " 2. ask the user for their favorite colour.\n",
        " 3. ask the user for their faveritr animal.\n",
        " 4. combine tne name of their favorite colour and animal and show them their group name."
      ],
      "metadata": {
        "id": "2NVkOAoE3Uz-"
      }
    },
    {
      "cell_type": "code",
      "source": [
        "print(\"Welcome to the Groupe Name Genetator\")\n",
        "colour = input(\"what's your favorite colour?\\n\")\n",
        "animal = input(\"what's your favorite animal?\\n\")\n",
        "print(\"Your group name could be \"+ colour +\" \"+animal+\"s\")\n",
        "\n"
      ],
      "metadata": {
        "colab": {
          "base_uri": "https://localhost:8080/"
        },
        "id": "SxPY99423VdA",
        "outputId": "8e8068ee-a626-4981-8948-70abcd1eeefb"
      },
      "execution_count": 4,
      "outputs": [
        {
          "output_type": "stream",
          "name": "stdout",
          "text": [
            "Welcome to the Groupe Name Genetator\n",
            "what's your favorite colour?\n",
            "white\n",
            "what's your favorite animal?\n",
            "dog\n",
            "Your group name could be whitedogs\n"
          ]
        }
      ]
    }
  ],
  "metadata": {
    "colab": {
      "name": "Welcome To Colaboratory",
      "toc_visible": true,
      "provenance": [],
      "include_colab_link": true
    },
    "kernelspec": {
      "display_name": "Python 3",
      "name": "python3"
    }
  },
  "nbformat": 4,
  "nbformat_minor": 0
}