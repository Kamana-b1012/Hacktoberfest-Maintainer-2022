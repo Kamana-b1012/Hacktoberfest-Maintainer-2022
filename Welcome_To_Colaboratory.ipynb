{
  "cells": [
    {
      "cell_type": "markdown",
      "metadata": {
        "id": "view-in-github",
        "colab_type": "text"
      },
      "source": [
        "<a href=\"https://colab.research.google.com/github/Kamana-b1012/Hacktoberfest-Maintainer-2022/blob/main/Welcome_To_Colaboratory.ipynb\" target=\"_parent\"><img src=\"https://colab.research.google.com/assets/colab-badge.svg\" alt=\"Open In Colab\"/></a>"
      ]
    },
    {
      "cell_type": "markdown",
      "source": [
        "project 3- GROSS PAY\n",
        "\n",
        "Instruction\n",
        "WRITE A PROGRAM TO PROMOTE THE USER TOE HOURS AND RATE PER HOURS TO COMPURE GROSS PAY.YOU NEED TO TAKE INTO ACCOUNT THAT THE RESULT HAS EXACTLY TWO DIGIT AFTER THE DECIMAL PLACE.\n",
        "\n",
        "INPUT\n",
        "ENTER HOURS:35\n",
        "ENTER RATE:2.75\n"
      ],
      "metadata": {
        "id": "oOFsmREXUPSY"
      }
    },
    {
      "cell_type": "code",
      "source": [
        "hour =  input(\"Enter Hours: \")\n",
        "rate = input(\"Enter Rate:\")\n",
        "hour = float(hour)\n",
        "rate = float(rate)\n",
        "pay = round(hour+rate,2)\n",
        "print(f\"Pay: {pay}\")\n",
        "\n",
        "\n",
        "\n",
        "\n"
      ],
      "metadata": {
        "colab": {
          "base_uri": "https://localhost:8080/"
        },
        "id": "LuYyHlCPb8ul",
        "outputId": "4afb2fa5-6399-4ab5-9080-042a27c30be2"
      },
      "execution_count": null,
      "outputs": [
        {
          "output_type": "stream",
          "name": "stdout",
          "text": [
            "Enter Hours: 35\n",
            "Enter Rate:2.35\n",
            "Pay: 37.35\n"
          ]
        }
      ]
    }
  ],
  "metadata": {
    "colab": {
      "name": "Welcome To Colaboratory",
      "toc_visible": true,
      "provenance": [],
      "include_colab_link": true
    },
    "kernelspec": {
      "display_name": "Python 3",
      "name": "python3"
    }
  },
  "nbformat": 4,
  "nbformat_minor": 0
}